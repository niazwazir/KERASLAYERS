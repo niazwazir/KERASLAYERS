{
 "cells": [
  {
   "cell_type": "code",
   "execution_count": 1,
   "metadata": {},
   "outputs": [
    {
     "name": "stderr",
     "output_type": "stream",
     "text": [
      "/home/savath/.virtualenvs/wazir/lib/python3.5/site-packages/h5py/__init__.py:36: FutureWarning: Conversion of the second argument of issubdtype from `float` to `np.floating` is deprecated. In future, it will be treated as `np.float64 == np.dtype(float).type`.\n",
      "  from ._conv import register_converters as _register_converters\n",
      "Using TensorFlow backend.\n"
     ]
    }
   ],
   "source": [
    "#APPLY DROPOUT LAYERS IN KERAS\n",
    "import keras\n",
    "from IPython.display import SVG #(SVG = Scalable Vector Graphics)\n",
    "from keras.layers import Dropout\n",
    "from keras.utils import plot_model\n",
    "from keras.utils.vis_utils import model_to_dot"
   ]
  },
  {
   "cell_type": "code",
   "execution_count": 2,
   "metadata": {},
   "outputs": [],
   "source": [
    "input0 = keras.layers.Input((32, 32, 3), name='Input0')\n",
    "flatten = keras.layers.Flatten(name='Flatten')(input0)\n",
    "relu1 = keras.layers.Dense(256, activation='relu', name='ReLU1')(flatten)\n",
    "dropout1 = keras.layers.Dropout(1., name='Dropout1')(relu1)\n",
    "relu2 = keras.layers.Dense(256, activation='relu', name='ReLU2')(dropout1)\n",
    "dropout2 = keras.layers.Dropout(1., name='Dropout2')(relu2)\n",
    "relu3 = keras.layers.Dense(256, activation='relu', name='ReLU3')(dropout2)\n",
    "model = keras.models.Model(inputs=input0, outputs=relu3, name='DROPOUT')"
   ]
  },
  {
   "cell_type": "code",
   "execution_count": 3,
   "metadata": {},
   "outputs": [
    {
     "name": "stdout",
     "output_type": "stream",
     "text": [
      "_________________________________________________________________\n",
      "Layer (type)                 Output Shape              Param #   \n",
      "=================================================================\n",
      "Input0 (InputLayer)          (None, 32, 32, 3)         0         \n",
      "_________________________________________________________________\n",
      "Flatten (Flatten)            (None, 3072)              0         \n",
      "_________________________________________________________________\n",
      "ReLU1 (Dense)                (None, 256)               786688    \n",
      "_________________________________________________________________\n",
      "Dropout1 (Dropout)           (None, 256)               0         \n",
      "_________________________________________________________________\n",
      "ReLU2 (Dense)                (None, 256)               65792     \n",
      "_________________________________________________________________\n",
      "Dropout2 (Dropout)           (None, 256)               0         \n",
      "_________________________________________________________________\n",
      "ReLU3 (Dense)                (None, 256)               65792     \n",
      "=================================================================\n",
      "Total params: 918,272\n",
      "Trainable params: 918,272\n",
      "Non-trainable params: 0\n",
      "_________________________________________________________________\n"
     ]
    }
   ],
   "source": [
    "model.summary()"
   ]
  },
  {
   "cell_type": "code",
   "execution_count": 4,
   "metadata": {},
   "outputs": [
    {
     "data": {
      "image/svg+xml": [
       "<svg height=\"553pt\" viewBox=\"0.00 0.00 293.00 553.00\" width=\"293pt\" xmlns=\"http://www.w3.org/2000/svg\" xmlns:xlink=\"http://www.w3.org/1999/xlink\">\n",
       "<g class=\"graph\" id=\"graph0\" transform=\"scale(1 1) rotate(0) translate(4 549)\">\n",
       "<title>G</title>\n",
       "<polygon fill=\"white\" points=\"-4,4 -4,-549 289,-549 289,4 -4,4\" stroke=\"none\"/>\n",
       "<!-- 139667487364712 -->\n",
       "<g class=\"node\" id=\"node1\"><title>139667487364712</title>\n",
       "<polygon fill=\"none\" points=\"0,-498.5 0,-544.5 285,-544.5 285,-498.5 0,-498.5\" stroke=\"black\"/>\n",
       "<text font-family=\"Times,serif\" font-size=\"14.00\" text-anchor=\"middle\" x=\"59.5\" y=\"-517.8\">Input0: InputLayer</text>\n",
       "<polyline fill=\"none\" points=\"119,-498.5 119,-544.5 \" stroke=\"black\"/>\n",
       "<text font-family=\"Times,serif\" font-size=\"14.00\" text-anchor=\"middle\" x=\"146.5\" y=\"-529.3\">input:</text>\n",
       "<polyline fill=\"none\" points=\"119,-521.5 174,-521.5 \" stroke=\"black\"/>\n",
       "<text font-family=\"Times,serif\" font-size=\"14.00\" text-anchor=\"middle\" x=\"146.5\" y=\"-506.3\">output:</text>\n",
       "<polyline fill=\"none\" points=\"174,-498.5 174,-544.5 \" stroke=\"black\"/>\n",
       "<text font-family=\"Times,serif\" font-size=\"14.00\" text-anchor=\"middle\" x=\"229.5\" y=\"-529.3\">(None, 32, 32, 3)</text>\n",
       "<polyline fill=\"none\" points=\"174,-521.5 285,-521.5 \" stroke=\"black\"/>\n",
       "<text font-family=\"Times,serif\" font-size=\"14.00\" text-anchor=\"middle\" x=\"229.5\" y=\"-506.3\">(None, 32, 32, 3)</text>\n",
       "</g>\n",
       "<!-- 139667487364656 -->\n",
       "<g class=\"node\" id=\"node2\"><title>139667487364656</title>\n",
       "<polygon fill=\"none\" points=\"10,-415.5 10,-461.5 275,-461.5 275,-415.5 10,-415.5\" stroke=\"black\"/>\n",
       "<text font-family=\"Times,serif\" font-size=\"14.00\" text-anchor=\"middle\" x=\"59.5\" y=\"-434.8\">Flatten: Flatten</text>\n",
       "<polyline fill=\"none\" points=\"109,-415.5 109,-461.5 \" stroke=\"black\"/>\n",
       "<text font-family=\"Times,serif\" font-size=\"14.00\" text-anchor=\"middle\" x=\"136.5\" y=\"-446.3\">input:</text>\n",
       "<polyline fill=\"none\" points=\"109,-438.5 164,-438.5 \" stroke=\"black\"/>\n",
       "<text font-family=\"Times,serif\" font-size=\"14.00\" text-anchor=\"middle\" x=\"136.5\" y=\"-423.3\">output:</text>\n",
       "<polyline fill=\"none\" points=\"164,-415.5 164,-461.5 \" stroke=\"black\"/>\n",
       "<text font-family=\"Times,serif\" font-size=\"14.00\" text-anchor=\"middle\" x=\"219.5\" y=\"-446.3\">(None, 32, 32, 3)</text>\n",
       "<polyline fill=\"none\" points=\"164,-438.5 275,-438.5 \" stroke=\"black\"/>\n",
       "<text font-family=\"Times,serif\" font-size=\"14.00\" text-anchor=\"middle\" x=\"219.5\" y=\"-423.3\">(None, 3072)</text>\n",
       "</g>\n",
       "<!-- 139667487364712&#45;&gt;139667487364656 -->\n",
       "<g class=\"edge\" id=\"edge1\"><title>139667487364712-&gt;139667487364656</title>\n",
       "<path d=\"M142.5,-498.366C142.5,-490.152 142.5,-480.658 142.5,-471.725\" fill=\"none\" stroke=\"black\"/>\n",
       "<polygon fill=\"black\" points=\"146,-471.607 142.5,-461.607 139,-471.607 146,-471.607\" stroke=\"black\"/>\n",
       "</g>\n",
       "<!-- 139667487365048 -->\n",
       "<g class=\"node\" id=\"node3\"><title>139667487365048</title>\n",
       "<polygon fill=\"none\" points=\"21.5,-332.5 21.5,-378.5 263.5,-378.5 263.5,-332.5 21.5,-332.5\" stroke=\"black\"/>\n",
       "<text font-family=\"Times,serif\" font-size=\"14.00\" text-anchor=\"middle\" x=\"70.5\" y=\"-351.8\">ReLU1: Dense</text>\n",
       "<polyline fill=\"none\" points=\"119.5,-332.5 119.5,-378.5 \" stroke=\"black\"/>\n",
       "<text font-family=\"Times,serif\" font-size=\"14.00\" text-anchor=\"middle\" x=\"147\" y=\"-363.3\">input:</text>\n",
       "<polyline fill=\"none\" points=\"119.5,-355.5 174.5,-355.5 \" stroke=\"black\"/>\n",
       "<text font-family=\"Times,serif\" font-size=\"14.00\" text-anchor=\"middle\" x=\"147\" y=\"-340.3\">output:</text>\n",
       "<polyline fill=\"none\" points=\"174.5,-332.5 174.5,-378.5 \" stroke=\"black\"/>\n",
       "<text font-family=\"Times,serif\" font-size=\"14.00\" text-anchor=\"middle\" x=\"219\" y=\"-363.3\">(None, 3072)</text>\n",
       "<polyline fill=\"none\" points=\"174.5,-355.5 263.5,-355.5 \" stroke=\"black\"/>\n",
       "<text font-family=\"Times,serif\" font-size=\"14.00\" text-anchor=\"middle\" x=\"219\" y=\"-340.3\">(None, 256)</text>\n",
       "</g>\n",
       "<!-- 139667487364656&#45;&gt;139667487365048 -->\n",
       "<g class=\"edge\" id=\"edge2\"><title>139667487364656-&gt;139667487365048</title>\n",
       "<path d=\"M142.5,-415.366C142.5,-407.152 142.5,-397.658 142.5,-388.725\" fill=\"none\" stroke=\"black\"/>\n",
       "<polygon fill=\"black\" points=\"146,-388.607 142.5,-378.607 139,-388.607 146,-388.607\" stroke=\"black\"/>\n",
       "</g>\n",
       "<!-- 139667487365216 -->\n",
       "<g class=\"node\" id=\"node4\"><title>139667487365216</title>\n",
       "<polygon fill=\"none\" points=\"13,-249.5 13,-295.5 272,-295.5 272,-249.5 13,-249.5\" stroke=\"black\"/>\n",
       "<text font-family=\"Times,serif\" font-size=\"14.00\" text-anchor=\"middle\" x=\"73.5\" y=\"-268.8\">Dropout1: Dropout</text>\n",
       "<polyline fill=\"none\" points=\"134,-249.5 134,-295.5 \" stroke=\"black\"/>\n",
       "<text font-family=\"Times,serif\" font-size=\"14.00\" text-anchor=\"middle\" x=\"161.5\" y=\"-280.3\">input:</text>\n",
       "<polyline fill=\"none\" points=\"134,-272.5 189,-272.5 \" stroke=\"black\"/>\n",
       "<text font-family=\"Times,serif\" font-size=\"14.00\" text-anchor=\"middle\" x=\"161.5\" y=\"-257.3\">output:</text>\n",
       "<polyline fill=\"none\" points=\"189,-249.5 189,-295.5 \" stroke=\"black\"/>\n",
       "<text font-family=\"Times,serif\" font-size=\"14.00\" text-anchor=\"middle\" x=\"230.5\" y=\"-280.3\">(None, 256)</text>\n",
       "<polyline fill=\"none\" points=\"189,-272.5 272,-272.5 \" stroke=\"black\"/>\n",
       "<text font-family=\"Times,serif\" font-size=\"14.00\" text-anchor=\"middle\" x=\"230.5\" y=\"-257.3\">(None, 256)</text>\n",
       "</g>\n",
       "<!-- 139667487365048&#45;&gt;139667487365216 -->\n",
       "<g class=\"edge\" id=\"edge3\"><title>139667487365048-&gt;139667487365216</title>\n",
       "<path d=\"M142.5,-332.366C142.5,-324.152 142.5,-314.658 142.5,-305.725\" fill=\"none\" stroke=\"black\"/>\n",
       "<polygon fill=\"black\" points=\"146,-305.607 142.5,-295.607 139,-305.607 146,-305.607\" stroke=\"black\"/>\n",
       "</g>\n",
       "<!-- 139667487441640 -->\n",
       "<g class=\"node\" id=\"node5\"><title>139667487441640</title>\n",
       "<polygon fill=\"none\" points=\"24.5,-166.5 24.5,-212.5 260.5,-212.5 260.5,-166.5 24.5,-166.5\" stroke=\"black\"/>\n",
       "<text font-family=\"Times,serif\" font-size=\"14.00\" text-anchor=\"middle\" x=\"73.5\" y=\"-185.8\">ReLU2: Dense</text>\n",
       "<polyline fill=\"none\" points=\"122.5,-166.5 122.5,-212.5 \" stroke=\"black\"/>\n",
       "<text font-family=\"Times,serif\" font-size=\"14.00\" text-anchor=\"middle\" x=\"150\" y=\"-197.3\">input:</text>\n",
       "<polyline fill=\"none\" points=\"122.5,-189.5 177.5,-189.5 \" stroke=\"black\"/>\n",
       "<text font-family=\"Times,serif\" font-size=\"14.00\" text-anchor=\"middle\" x=\"150\" y=\"-174.3\">output:</text>\n",
       "<polyline fill=\"none\" points=\"177.5,-166.5 177.5,-212.5 \" stroke=\"black\"/>\n",
       "<text font-family=\"Times,serif\" font-size=\"14.00\" text-anchor=\"middle\" x=\"219\" y=\"-197.3\">(None, 256)</text>\n",
       "<polyline fill=\"none\" points=\"177.5,-189.5 260.5,-189.5 \" stroke=\"black\"/>\n",
       "<text font-family=\"Times,serif\" font-size=\"14.00\" text-anchor=\"middle\" x=\"219\" y=\"-174.3\">(None, 256)</text>\n",
       "</g>\n",
       "<!-- 139667487365216&#45;&gt;139667487441640 -->\n",
       "<g class=\"edge\" id=\"edge4\"><title>139667487365216-&gt;139667487441640</title>\n",
       "<path d=\"M142.5,-249.366C142.5,-241.152 142.5,-231.658 142.5,-222.725\" fill=\"none\" stroke=\"black\"/>\n",
       "<polygon fill=\"black\" points=\"146,-222.607 142.5,-212.607 139,-222.607 146,-222.607\" stroke=\"black\"/>\n",
       "</g>\n",
       "<!-- 139667487442256 -->\n",
       "<g class=\"node\" id=\"node6\"><title>139667487442256</title>\n",
       "<polygon fill=\"none\" points=\"13,-83.5 13,-129.5 272,-129.5 272,-83.5 13,-83.5\" stroke=\"black\"/>\n",
       "<text font-family=\"Times,serif\" font-size=\"14.00\" text-anchor=\"middle\" x=\"73.5\" y=\"-102.8\">Dropout2: Dropout</text>\n",
       "<polyline fill=\"none\" points=\"134,-83.5 134,-129.5 \" stroke=\"black\"/>\n",
       "<text font-family=\"Times,serif\" font-size=\"14.00\" text-anchor=\"middle\" x=\"161.5\" y=\"-114.3\">input:</text>\n",
       "<polyline fill=\"none\" points=\"134,-106.5 189,-106.5 \" stroke=\"black\"/>\n",
       "<text font-family=\"Times,serif\" font-size=\"14.00\" text-anchor=\"middle\" x=\"161.5\" y=\"-91.3\">output:</text>\n",
       "<polyline fill=\"none\" points=\"189,-83.5 189,-129.5 \" stroke=\"black\"/>\n",
       "<text font-family=\"Times,serif\" font-size=\"14.00\" text-anchor=\"middle\" x=\"230.5\" y=\"-114.3\">(None, 256)</text>\n",
       "<polyline fill=\"none\" points=\"189,-106.5 272,-106.5 \" stroke=\"black\"/>\n",
       "<text font-family=\"Times,serif\" font-size=\"14.00\" text-anchor=\"middle\" x=\"230.5\" y=\"-91.3\">(None, 256)</text>\n",
       "</g>\n",
       "<!-- 139667487441640&#45;&gt;139667487442256 -->\n",
       "<g class=\"edge\" id=\"edge5\"><title>139667487441640-&gt;139667487442256</title>\n",
       "<path d=\"M142.5,-166.366C142.5,-158.152 142.5,-148.658 142.5,-139.725\" fill=\"none\" stroke=\"black\"/>\n",
       "<polygon fill=\"black\" points=\"146,-139.607 142.5,-129.607 139,-139.607 146,-139.607\" stroke=\"black\"/>\n",
       "</g>\n",
       "<!-- 139667487027152 -->\n",
       "<g class=\"node\" id=\"node7\"><title>139667487027152</title>\n",
       "<polygon fill=\"none\" points=\"24.5,-0.5 24.5,-46.5 260.5,-46.5 260.5,-0.5 24.5,-0.5\" stroke=\"black\"/>\n",
       "<text font-family=\"Times,serif\" font-size=\"14.00\" text-anchor=\"middle\" x=\"73.5\" y=\"-19.8\">ReLU3: Dense</text>\n",
       "<polyline fill=\"none\" points=\"122.5,-0.5 122.5,-46.5 \" stroke=\"black\"/>\n",
       "<text font-family=\"Times,serif\" font-size=\"14.00\" text-anchor=\"middle\" x=\"150\" y=\"-31.3\">input:</text>\n",
       "<polyline fill=\"none\" points=\"122.5,-23.5 177.5,-23.5 \" stroke=\"black\"/>\n",
       "<text font-family=\"Times,serif\" font-size=\"14.00\" text-anchor=\"middle\" x=\"150\" y=\"-8.3\">output:</text>\n",
       "<polyline fill=\"none\" points=\"177.5,-0.5 177.5,-46.5 \" stroke=\"black\"/>\n",
       "<text font-family=\"Times,serif\" font-size=\"14.00\" text-anchor=\"middle\" x=\"219\" y=\"-31.3\">(None, 256)</text>\n",
       "<polyline fill=\"none\" points=\"177.5,-23.5 260.5,-23.5 \" stroke=\"black\"/>\n",
       "<text font-family=\"Times,serif\" font-size=\"14.00\" text-anchor=\"middle\" x=\"219\" y=\"-8.3\">(None, 256)</text>\n",
       "</g>\n",
       "<!-- 139667487442256&#45;&gt;139667487027152 -->\n",
       "<g class=\"edge\" id=\"edge6\"><title>139667487442256-&gt;139667487027152</title>\n",
       "<path d=\"M142.5,-83.3664C142.5,-75.1516 142.5,-65.6579 142.5,-56.7252\" fill=\"none\" stroke=\"black\"/>\n",
       "<polygon fill=\"black\" points=\"146,-56.6068 142.5,-46.6068 139,-56.6069 146,-56.6068\" stroke=\"black\"/>\n",
       "</g>\n",
       "</g>\n",
       "</svg>"
      ],
      "text/plain": [
       "<IPython.core.display.SVG object>"
      ]
     },
     "execution_count": 4,
     "metadata": {},
     "output_type": "execute_result"
    }
   ],
   "source": [
    "SVG(model_to_dot(model, show_shapes=True).create(prog='dot', format='svg'))"
   ]
  },
  {
   "cell_type": "code",
   "execution_count": 5,
   "metadata": {},
   "outputs": [],
   "source": [
    "plot_model(model, to_file='DROPOUTLAYER.png')"
   ]
  },
  {
   "cell_type": "code",
   "execution_count": null,
   "metadata": {},
   "outputs": [],
   "source": []
  }
 ],
 "metadata": {
  "kernelspec": {
   "display_name": "Python 3",
   "language": "python",
   "name": "python3"
  },
  "language_info": {
   "codemirror_mode": {
    "name": "ipython",
    "version": 3
   },
   "file_extension": ".py",
   "mimetype": "text/x-python",
   "name": "python",
   "nbconvert_exporter": "python",
   "pygments_lexer": "ipython3",
   "version": "3.5.2"
  }
 },
 "nbformat": 4,
 "nbformat_minor": 2
}
