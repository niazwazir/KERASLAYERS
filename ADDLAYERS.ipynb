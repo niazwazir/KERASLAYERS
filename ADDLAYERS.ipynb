{
 "cells": [
  {
   "cell_type": "code",
   "execution_count": 1,
   "metadata": {},
   "outputs": [
    {
     "data": {
      "text/plain": [
       "'\\nfrom keras import layers\\nfrom keras.optimizers import SGD\\nfrom keras.utils import plot_model\\nfrom keras.utils.vis_utils import model_to_dot\\nfrom keras.layers.merge import add\\nfrom keras.layers.convolutional import Deconv2D as Conv2DTranspose\\nfrom keras.models import load_model\\nfrom keras.models import Sequential, Model\\nfrom keras.preprocessing import image\\nfrom scipy.misc import imsave, imread, imresize, toimage\\nimport matplotlib.pyplot as plt\\nfrom keras.models import Sequential\\nfrom keras.layers import Conv2D, Input, BatchNormalization\\nfrom keras.callbacks import ModelCheckpoint\\nfrom keras.optimizers import SGD, Adam\\nimport prepare_data as pd\\nimport numpy\\nimport math\\n\\n\\nfrom keras.models import load_model\\nfrom keras.models import Sequential, Model\\nfrom keras.layers import Dense, Activation\\nfrom keras.layers import Conv2D, MaxPooling2D, Input, Merge, ZeroPadding2D, merge\\nfrom keras.preprocessing import image\\nfrom scipy.misc import imsave, imread, imresize, toimage\\nimport numpy as np\\nimport matplotlib.pyplot as plt\\nfrom IPython.display import SVG\\nfrom keras.utils.vis_utils import model_to_dot\\n'"
      ]
     },
     "execution_count": 1,
     "metadata": {},
     "output_type": "execute_result"
    }
   ],
   "source": [
    "\n",
    "\n",
    "\"\"\"\n",
    "from keras import layers\n",
    "from keras.optimizers import SGD\n",
    "from keras.utils import plot_model\n",
    "from keras.utils.vis_utils import model_to_dot\n",
    "from keras.layers.merge import add\n",
    "from keras.layers.convolutional import Deconv2D as Conv2DTranspose\n",
    "from keras.models import load_model\n",
    "from keras.models import Sequential, Model\n",
    "from keras.preprocessing import image\n",
    "from scipy.misc import imsave, imread, imresize, toimage\n",
    "import matplotlib.pyplot as plt\n",
    "from keras.models import Sequential\n",
    "from keras.layers import Conv2D, Input, BatchNormalization\n",
    "from keras.callbacks import ModelCheckpoint\n",
    "from keras.optimizers import SGD, Adam\n",
    "import prepare_data as pd\n",
    "import numpy\n",
    "import math\n",
    "\n",
    "\n",
    "from keras.models import load_model\n",
    "from keras.models import Sequential, Model\n",
    "from keras.layers import Dense, Activation\n",
    "from keras.layers import Conv2D, MaxPooling2D, Input, Merge, ZeroPadding2D, merge\n",
    "from keras.preprocessing import image\n",
    "from scipy.misc import imsave, imread, imresize, toimage\n",
    "import numpy as np\n",
    "import matplotlib.pyplot as plt\n",
    "from IPython.display import SVG\n",
    "from keras.utils.vis_utils import model_to_dot\n",
    "\"\"\""
   ]
  },
  {
   "cell_type": "code",
   "execution_count": 6,
   "metadata": {},
   "outputs": [],
   "source": [
    "import keras\n",
    "#from keras.models import Sequential,Model\n",
    "from keras.layers import Conv2D, Input\n",
    "from keras.layers import Input,Activation\n",
    "from keras.layers.convolutional import Deconv2D as Conv2DTranspose\n",
    "from keras.layers.merge import add"
   ]
  },
  {
   "cell_type": "code",
   "execution_count": 7,
   "metadata": {},
   "outputs": [
    {
     "ename": "NameError",
     "evalue": "name 'Model' is not defined",
     "output_type": "error",
     "traceback": [
      "\u001b[0;31m---------------------------------------------------------------------------\u001b[0m",
      "\u001b[0;31mNameError\u001b[0m                                 Traceback (most recent call last)",
      "\u001b[0;32m<ipython-input-7-f7664765b76a>\u001b[0m in \u001b[0;36m<module>\u001b[0;34m()\u001b[0m\n\u001b[1;32m     13\u001b[0m \u001b[0mm3\u001b[0m   \u001b[0;34m=\u001b[0m \u001b[0madd\u001b[0m\u001b[0;34m(\u001b[0m\u001b[0;34m[\u001b[0m\u001b[0minput_img\u001b[0m\u001b[0;34m,\u001b[0m \u001b[0mB25C\u001b[0m\u001b[0;34m]\u001b[0m\u001b[0;34m,\u001b[0m\u001b[0mname\u001b[0m\u001b[0;34m=\u001b[0m\u001b[0;34m'ADDITIONOFLAYERS'\u001b[0m\u001b[0;34m)\u001b[0m\u001b[0;34m\u001b[0m\u001b[0m\n\u001b[1;32m     14\u001b[0m \u001b[0moutput\u001b[0m \u001b[0;34m=\u001b[0m \u001b[0mConv2D\u001b[0m\u001b[0;34m(\u001b[0m\u001b[0;36m1\u001b[0m\u001b[0;34m,\u001b[0m \u001b[0;34m(\u001b[0m\u001b[0;36m13\u001b[0m\u001b[0;34m,\u001b[0m \u001b[0;36m13\u001b[0m\u001b[0;34m)\u001b[0m\u001b[0;34m,\u001b[0m \u001b[0mpadding\u001b[0m\u001b[0;34m=\u001b[0m\u001b[0;34m'valid'\u001b[0m\u001b[0;34m,\u001b[0m \u001b[0mname\u001b[0m\u001b[0;34m=\u001b[0m\u001b[0;34m'OUTPUT_OF_LAYERS'\u001b[0m\u001b[0;34m)\u001b[0m\u001b[0;34m(\u001b[0m\u001b[0mm3\u001b[0m\u001b[0;34m)\u001b[0m\u001b[0;34m\u001b[0m\u001b[0m\n\u001b[0;32m---> 15\u001b[0;31m \u001b[0mmodel\u001b[0m\u001b[0;34m=\u001b[0m\u001b[0mModel\u001b[0m\u001b[0;34m(\u001b[0m\u001b[0minput_img\u001b[0m\u001b[0;34m,\u001b[0m\u001b[0moutput\u001b[0m\u001b[0;34m)\u001b[0m\u001b[0;34m\u001b[0m\u001b[0m\n\u001b[0m",
      "\u001b[0;31mNameError\u001b[0m: name 'Model' is not defined"
     ]
    }
   ],
   "source": [
    "input_img = Input(shape=(32,32,1),name='INPUT_IMAGE') \n",
    "B11C = Conv2D(64,(9,9), padding='same',name='CONVOLUTION_B11C')(input_img)\n",
    "B11A = Activation('relu',name='RELU_B11A')(B11C)\n",
    "B21C = Conv2D(56,(5,5), padding='same',name='CONVOLUTIONB_B21C')(B11A)\n",
    "B21A = Activation('relu',name='RELU_B21A')(B21C)\n",
    "B22C = Conv2D(12,(1,1), padding='same',name='CONVOLUTION_B22C')(B21A)\n",
    "B22A = Activation('relu',name='RELU_B22A')(B22C)\n",
    "B23C = Conv2D(64, (3,3), padding='same',name='CONVOLUTION_B23C')(B22A)\n",
    "DC1  = Conv2DTranspose(64, (1,1),name='TRANSPOSE_CONVOLUTION_DC1')(B23C)\n",
    "B24C = Conv2D(64, (3,3), padding='same',name='CONVOLUTIONC_B24C')(DC1)\n",
    "DC2  = Conv2DTranspose(64, (1,1),name='TRANSPOSE_CONVOLUTION_DC2')(B24C)\n",
    "B25C = Conv2D(64, (3,3), padding='same',name='CONVOLUTION_B25C')(DC2)\n",
    "m3   = add([input_img, B25C],name='ADDITIONOFLAYERS')\n",
    "output = Conv2D(1, (13, 13), padding='valid', name='OUTPUT_OF_LAYERS')(m3)\n",
    "model=Model(input_img,output)"
   ]
  },
  {
   "cell_type": "code",
   "execution_count": null,
   "metadata": {},
   "outputs": [],
   "source": [
    "model.summary()"
   ]
  },
  {
   "cell_type": "code",
   "execution_count": null,
   "metadata": {},
   "outputs": [],
   "source": [
    "SVG(model_to_dot(model, show_shapes=True).create(prog='dot', format='svg'))"
   ]
  },
  {
   "cell_type": "code",
   "execution_count": null,
   "metadata": {},
   "outputs": [],
   "source": []
  }
 ],
 "metadata": {
  "kernelspec": {
   "display_name": "Python 3",
   "language": "python",
   "name": "python3"
  },
  "language_info": {
   "codemirror_mode": {
    "name": "ipython",
    "version": 3
   },
   "file_extension": ".py",
   "mimetype": "text/x-python",
   "name": "python",
   "nbconvert_exporter": "python",
   "pygments_lexer": "ipython3",
   "version": "3.5.2"
  }
 },
 "nbformat": 4,
 "nbformat_minor": 2
}
